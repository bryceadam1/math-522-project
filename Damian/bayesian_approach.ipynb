{
 "cells": [
  {
   "cell_type": "code",
   "execution_count": 2,
   "metadata": {},
   "outputs": [],
   "source": [
    "import sympy as sp"
   ]
  },
  {
   "cell_type": "markdown",
   "metadata": {},
   "source": [
    "I find the best thing to predict to compare machine learning to. I will see how close things are to the correct predictor to evaluate the model"
   ]
  },
  {
   "cell_type": "code",
   "execution_count": 229,
   "metadata": {},
   "outputs": [],
   "source": [
    "y = sp.symbols(r\"y\")\n",
    "alpha, beta = sp.symbols([r\"\\alpha\", r\"\\beta\"])\n",
    "x = sp.symbols(\"x\")\n",
    "var_err = sp.symbols(r\"\\sigma^2_\\epsilon\")\n",
    "\n",
    "\n",
    "mu_y, var_y = sp.symbols([r\"\\mu_y\", r\"\\sigma^2_y\"])\n",
    "mu_alpha, mu_beta = sp.symbols([r\"\\mu_\\alpha\", r\"\\mu_\\beta\"])\n",
    "var_alpha, var_beta = sp.symbols([r\"\\sigma^2_\\alpha\", r\"\\sigma^2_\\beta\"])\n",
    "covar = sp.symbols(r\"\\text{cov(}\\alpha\\text{\\,\\ }\\beta\\text{)}\")\n",
    "a, b, c, d = sp.symbols(\"a b c d\")\n",
    "Sigma_inv = sp.Matrix([[a, b], [c, d]])"
   ]
  },
  {
   "cell_type": "code",
   "execution_count": 228,
   "metadata": {},
   "outputs": [
    {
     "data": {
      "text/latex": [
       "$\\displaystyle \\left[\\begin{matrix}a & b\\\\c & d\\end{matrix}\\right]$"
      ],
      "text/plain": [
       "Matrix([\n",
       "[a, b],\n",
       "[c, d]])"
      ]
     },
     "execution_count": 228,
     "metadata": {},
     "output_type": "execute_result"
    }
   ],
   "source": [
    "Sigma_inv"
   ]
  },
  {
   "cell_type": "code",
   "execution_count": 230,
   "metadata": {},
   "outputs": [
    {
     "data": {
      "text/latex": [
       "$\\displaystyle \\left[\\begin{matrix}e^{- \\frac{\\alpha^{2} a + \\alpha \\beta b + \\alpha \\beta c - 2 \\alpha \\mu_{\\alpha} a - \\alpha \\mu_{\\beta} b - \\alpha \\mu_{\\beta} c + \\beta^{2} d - \\beta \\mu_{\\alpha} b - \\beta \\mu_{\\alpha} c - 2 \\beta \\mu_{\\beta} d + \\mu_{\\alpha}^{2} a + \\mu_{\\alpha} \\mu_{\\beta} b + \\mu_{\\alpha} \\mu_{\\beta} c + \\mu_{\\beta}^{2} d}{2}}\\end{matrix}\\right]$"
      ],
      "text/plain": [
       "Matrix([[exp(-(\\alpha**2*a + \\alpha*\\beta*b + \\alpha*\\beta*c - 2*\\alpha*\\mu_\\alpha*a - \\alpha*\\mu_\\beta*b - \\alpha*\\mu_\\beta*c + \\beta**2*d - \\beta*\\mu_\\alpha*b - \\beta*\\mu_\\alpha*c - 2*\\beta*\\mu_\\beta*d + \\mu_\\alpha**2*a + \\mu_\\alpha*\\mu_\\beta*b + \\mu_\\alpha*\\mu_\\beta*c + \\mu_\\beta**2*d)/2)]])"
      ]
     },
     "execution_count": 230,
     "metadata": {},
     "output_type": "execute_result"
    }
   ],
   "source": [
    "prior = sp.exp(-sp.Rational(1,2) * sp.Matrix([[alpha - mu_alpha, beta - mu_beta]]) @ Sigma_inv @ sp.Matrix([[alpha - mu_alpha], [beta - mu_beta]]))\n",
    "prior"
   ]
  },
  {
   "cell_type": "code",
   "execution_count": 196,
   "metadata": {},
   "outputs": [
    {
     "data": {
      "text/latex": [
       "$\\displaystyle \\frac{- \\frac{\\alpha^{2}}{2} - \\alpha \\beta y + \\alpha x - \\frac{\\beta^{2} y^{2}}{2} + \\beta x y - \\frac{x^{2}}{2}}{\\sigma^{2}_{\\epsilon}}$"
      ],
      "text/plain": [
       "(-\\alpha**2/2 - \\alpha*\\beta*y + \\alpha*x - \\beta**2*y**2/2 + \\beta*x*y - x**2/2)/\\sigma^2_\\epsilon"
      ]
     },
     "execution_count": 196,
     "metadata": {},
     "output_type": "execute_result"
    }
   ],
   "source": [
    "(-(x - alpha - beta * y)**2 / (2 * var_err)).expand().simplify()"
   ]
  },
  {
   "cell_type": "code",
   "execution_count": 231,
   "metadata": {},
   "outputs": [
    {
     "data": {
      "text/latex": [
       "$\\displaystyle \\frac{- \\frac{\\alpha^{2}}{2} - \\alpha \\beta y + \\alpha x - \\frac{\\beta^{2} y^{2}}{2} + \\beta x y - \\frac{x^{2}}{2}}{\\sigma^{2}_{\\epsilon}}$"
      ],
      "text/plain": [
       "(-\\alpha**2/2 - \\alpha*\\beta*y + \\alpha*x - \\beta**2*y**2/2 + \\beta*x*y - x**2/2)/\\sigma^2_\\epsilon"
      ]
     },
     "execution_count": 231,
     "metadata": {},
     "output_type": "execute_result"
    }
   ],
   "source": [
    "inv_cov = sp.Matrix([[1 / var_err, y / var_err], [y / var_err, y**2 / var_err]])\n",
    "mean = sp.Matrix([[x],[0]])\n",
    "thing = -sp.Rational(1,2) * (sp.Matrix([[alpha, beta]]) - mean.T) @ inv_cov @ (sp.Matrix([[alpha], [beta]]) - mean)\n",
    "thing[0].expand().simplify()"
   ]
  }
 ],
 "metadata": {
  "kernelspec": {
   "display_name": "Python 3 (ipykernel)",
   "language": "python",
   "name": "python3"
  },
  "language_info": {
   "codemirror_mode": {
    "name": "ipython",
    "version": 3
   },
   "file_extension": ".py",
   "mimetype": "text/x-python",
   "name": "python",
   "nbconvert_exporter": "python",
   "pygments_lexer": "ipython3",
   "version": "3.8.12"
  }
 },
 "nbformat": 4,
 "nbformat_minor": 2
}
